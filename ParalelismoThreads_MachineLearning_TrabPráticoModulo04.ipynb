{
  "nbformat": 4,
  "nbformat_minor": 0,
  "metadata": {
    "colab": {
      "name": "ParalelismoThreads_MachineLearning_TrabPráticoModulo04.ipynb",
      "provenance": []
    },
    "kernelspec": {
      "name": "python3",
      "display_name": "Python 3"
    }
  },
  "cells": [
    {
      "cell_type": "code",
      "metadata": {
        "id": "9IFLmdrcZwsD"
      },
      "source": [
        "import threading\n",
        "import time\n",
        "from random import randint"
      ],
      "execution_count": 2,
      "outputs": []
    },
    {
      "cell_type": "markdown",
      "metadata": {
        "id": "IPSsp6zof4Lu"
      },
      "source": [
        "**Analisar as Threads - Paralelismo - assincronismo**\n",
        "Os processos podem ter uma série de threads associadas e as threads de um processo são conhecidas como threads de usuário, por executarem no modo-usuário e não no modo-kernel. Uma thread é uma “linha” de execução dentro de um processo. Cada thread tem o seu próprio estado de processador e a sua própria pilha, mas compartilha a memória atribuída ao processo com as outras threads “irmãs” (filhas do mesmo processo)."
      ]
    },
    {
      "cell_type": "code",
      "metadata": {
        "id": "mtaSex4UZ8r5"
      },
      "source": [
        "def funcao_1(num):\n",
        "  n=num\n",
        "  while n>0:\n",
        "    n-=1\n",
        "    print(\"n_1: {}\".format(n))\n",
        "    time.sleep(randint(0,2))"
      ],
      "execution_count": 3,
      "outputs": []
    },
    {
      "cell_type": "code",
      "metadata": {
        "id": "jxK04Q32aLKw"
      },
      "source": [
        "def funcao_2(num):\n",
        "  n=num\n",
        "  \n",
        "  while n<100:\n",
        "    n+=1\n",
        "    print(\"n_2: {}\".format(n))\n",
        "    time.sleep(randint(0,2))"
      ],
      "execution_count": 4,
      "outputs": []
    },
    {
      "cell_type": "code",
      "metadata": {
        "id": "5a_xtEipaaLH",
        "outputId": "34f8de7c-32e3-49e5-ad8c-923a7a5660b9",
        "colab": {
          "base_uri": "https://localhost:8080/",
          "height": 629
        }
      },
      "source": [
        "if __name__ ==\"__main__\":\n",
        "  t1 = threading.Thread(target=funcao_1, args=(15,))\n",
        "  t2 = threading.Thread(target=funcao_2, args=(80,))\n",
        "\n",
        "  t1.start()\n",
        "  t2.start()\n",
        "\n",
        "  t1.join()\n",
        "  t2.join()\n",
        "  print(\"Fim!\")"
      ],
      "execution_count": 7,
      "outputs": [
        {
          "output_type": "stream",
          "text": [
            "n_1: 14\n",
            "n_1: 13\n",
            "n_2: 81\n",
            "n_1: 12\n",
            "n_1: 11\n",
            "n_2: 82\n",
            "n_1: 10\n",
            "n_1: 9\n",
            "n_1: 8\n",
            "n_2: 83\n",
            "n_2: 84\n",
            "n_1: 7\n",
            "n_2: 85\n",
            "n_2: 86\n",
            "n_1: 6\n",
            "n_1: 5\n",
            "n_2: 87\n",
            "n_2: 88\n",
            "n_1: 4\n",
            "n_1: 3\n",
            "n_1: 2\n",
            "n_2: 89\n",
            "n_2: 90\n",
            "n_1: 1\n",
            "n_2: 91\n",
            "n_1: 0\n",
            "n_2: 92\n",
            "n_2: 93\n",
            "n_2: 94\n",
            "n_2: 95\n",
            "n_2: 96\n",
            "n_2: 97\n",
            "n_2: 98\n",
            "n_2: 99\n",
            "n_2: 100\n",
            "Fim!\n"
          ],
          "name": "stdout"
        }
      ]
    },
    {
      "cell_type": "markdown",
      "metadata": {
        "id": "DBqLeUf-jfKX"
      },
      "source": [
        "**Análise de dados**"
      ]
    },
    {
      "cell_type": "code",
      "metadata": {
        "id": "wqdR2uAzcG3Y"
      },
      "source": [
        "import pandas as pd  #bibioteca responsável para o tratamento e limpeza dos dados\n",
        "import numpy as np #biblioteca utilizada para o tratamento eficiente de dados numéricos\n",
        "import datetime  #biblioteca utilizada para trabalhar com datas\n",
        "from matplotlib import pyplot as plt  #plotar os gráficos\n",
        "import seaborn as sns #plot de gráficos\n",
        "from pandas import DataFrame\n",
        "\n",
        "\n",
        "df_diabetes=pd.read_csv('datasets_diabetes.csv')"
      ],
      "execution_count": 8,
      "outputs": []
    },
    {
      "cell_type": "code",
      "metadata": {
        "id": "ptFxlpuXcXCS",
        "outputId": "f42469d2-db08-4162-e16b-9ad1af650112",
        "colab": {
          "base_uri": "https://localhost:8080/",
          "height": 289
        }
      },
      "source": [
        "df_diabetes.info()\n"
      ],
      "execution_count": 9,
      "outputs": [
        {
          "output_type": "stream",
          "text": [
            "<class 'pandas.core.frame.DataFrame'>\n",
            "RangeIndex: 768 entries, 0 to 767\n",
            "Data columns (total 9 columns):\n",
            " #   Column                    Non-Null Count  Dtype  \n",
            "---  ------                    --------------  -----  \n",
            " 0   Pregnancies               768 non-null    int64  \n",
            " 1   Glucose                   768 non-null    int64  \n",
            " 2   BloodPressure             768 non-null    int64  \n",
            " 3   SkinThickness             768 non-null    int64  \n",
            " 4   Insulin                   768 non-null    int64  \n",
            " 5   BMI                       768 non-null    float64\n",
            " 6   DiabetesPedigreeFunction  768 non-null    float64\n",
            " 7   Age                       768 non-null    int64  \n",
            " 8   Outcome                   768 non-null    int64  \n",
            "dtypes: float64(2), int64(7)\n",
            "memory usage: 54.1 KB\n"
          ],
          "name": "stdout"
        }
      ]
    },
    {
      "cell_type": "markdown",
      "metadata": {
        "id": "QM9A9ly3kepO"
      },
      "source": [
        "**Definição das entradas e saídas**\n"
      ]
    },
    {
      "cell_type": "code",
      "metadata": {
        "id": "z_DMQuWtc_Im"
      },
      "source": [
        "dfEntrada = DataFrame(df_diabetes,columns=['Pregnancies','Glucose','BloodPressure','SkinThickness','Insulin','BMI','DiabetesPedigreeFunction','Age'])\n",
        "dfSaida = DataFrame(df_diabetes,columns=['Outcome'])"
      ],
      "execution_count": 19,
      "outputs": []
    },
    {
      "cell_type": "code",
      "metadata": {
        "id": "pejhuIQZgSa9",
        "outputId": "d6c6fd75-3407-4cd5-ffa5-94bebf28338e",
        "colab": {
          "base_uri": "https://localhost:8080/",
          "height": 297
        }
      },
      "source": [
        "dfEntrada.describe()"
      ],
      "execution_count": 20,
      "outputs": [
        {
          "output_type": "execute_result",
          "data": {
            "text/html": [
              "<div>\n",
              "<style scoped>\n",
              "    .dataframe tbody tr th:only-of-type {\n",
              "        vertical-align: middle;\n",
              "    }\n",
              "\n",
              "    .dataframe tbody tr th {\n",
              "        vertical-align: top;\n",
              "    }\n",
              "\n",
              "    .dataframe thead th {\n",
              "        text-align: right;\n",
              "    }\n",
              "</style>\n",
              "<table border=\"1\" class=\"dataframe\">\n",
              "  <thead>\n",
              "    <tr style=\"text-align: right;\">\n",
              "      <th></th>\n",
              "      <th>Pregnancies</th>\n",
              "      <th>Glucose</th>\n",
              "      <th>BloodPressure</th>\n",
              "      <th>SkinThickness</th>\n",
              "      <th>Insulin</th>\n",
              "      <th>BMI</th>\n",
              "      <th>DiabetesPedigreeFunction</th>\n",
              "      <th>Age</th>\n",
              "    </tr>\n",
              "  </thead>\n",
              "  <tbody>\n",
              "    <tr>\n",
              "      <th>count</th>\n",
              "      <td>768.000000</td>\n",
              "      <td>768.000000</td>\n",
              "      <td>768.000000</td>\n",
              "      <td>768.000000</td>\n",
              "      <td>768.000000</td>\n",
              "      <td>768.000000</td>\n",
              "      <td>768.000000</td>\n",
              "      <td>768.000000</td>\n",
              "    </tr>\n",
              "    <tr>\n",
              "      <th>mean</th>\n",
              "      <td>3.845052</td>\n",
              "      <td>120.894531</td>\n",
              "      <td>69.105469</td>\n",
              "      <td>20.536458</td>\n",
              "      <td>79.799479</td>\n",
              "      <td>31.992578</td>\n",
              "      <td>0.471876</td>\n",
              "      <td>33.240885</td>\n",
              "    </tr>\n",
              "    <tr>\n",
              "      <th>std</th>\n",
              "      <td>3.369578</td>\n",
              "      <td>31.972618</td>\n",
              "      <td>19.355807</td>\n",
              "      <td>15.952218</td>\n",
              "      <td>115.244002</td>\n",
              "      <td>7.884160</td>\n",
              "      <td>0.331329</td>\n",
              "      <td>11.760232</td>\n",
              "    </tr>\n",
              "    <tr>\n",
              "      <th>min</th>\n",
              "      <td>0.000000</td>\n",
              "      <td>0.000000</td>\n",
              "      <td>0.000000</td>\n",
              "      <td>0.000000</td>\n",
              "      <td>0.000000</td>\n",
              "      <td>0.000000</td>\n",
              "      <td>0.078000</td>\n",
              "      <td>21.000000</td>\n",
              "    </tr>\n",
              "    <tr>\n",
              "      <th>25%</th>\n",
              "      <td>1.000000</td>\n",
              "      <td>99.000000</td>\n",
              "      <td>62.000000</td>\n",
              "      <td>0.000000</td>\n",
              "      <td>0.000000</td>\n",
              "      <td>27.300000</td>\n",
              "      <td>0.243750</td>\n",
              "      <td>24.000000</td>\n",
              "    </tr>\n",
              "    <tr>\n",
              "      <th>50%</th>\n",
              "      <td>3.000000</td>\n",
              "      <td>117.000000</td>\n",
              "      <td>72.000000</td>\n",
              "      <td>23.000000</td>\n",
              "      <td>30.500000</td>\n",
              "      <td>32.000000</td>\n",
              "      <td>0.372500</td>\n",
              "      <td>29.000000</td>\n",
              "    </tr>\n",
              "    <tr>\n",
              "      <th>75%</th>\n",
              "      <td>6.000000</td>\n",
              "      <td>140.250000</td>\n",
              "      <td>80.000000</td>\n",
              "      <td>32.000000</td>\n",
              "      <td>127.250000</td>\n",
              "      <td>36.600000</td>\n",
              "      <td>0.626250</td>\n",
              "      <td>41.000000</td>\n",
              "    </tr>\n",
              "    <tr>\n",
              "      <th>max</th>\n",
              "      <td>17.000000</td>\n",
              "      <td>199.000000</td>\n",
              "      <td>122.000000</td>\n",
              "      <td>99.000000</td>\n",
              "      <td>846.000000</td>\n",
              "      <td>67.100000</td>\n",
              "      <td>2.420000</td>\n",
              "      <td>81.000000</td>\n",
              "    </tr>\n",
              "  </tbody>\n",
              "</table>\n",
              "</div>"
            ],
            "text/plain": [
              "       Pregnancies     Glucose  ...  DiabetesPedigreeFunction         Age\n",
              "count   768.000000  768.000000  ...                768.000000  768.000000\n",
              "mean      3.845052  120.894531  ...                  0.471876   33.240885\n",
              "std       3.369578   31.972618  ...                  0.331329   11.760232\n",
              "min       0.000000    0.000000  ...                  0.078000   21.000000\n",
              "25%       1.000000   99.000000  ...                  0.243750   24.000000\n",
              "50%       3.000000  117.000000  ...                  0.372500   29.000000\n",
              "75%       6.000000  140.250000  ...                  0.626250   41.000000\n",
              "max      17.000000  199.000000  ...                  2.420000   81.000000\n",
              "\n",
              "[8 rows x 8 columns]"
            ]
          },
          "metadata": {
            "tags": []
          },
          "execution_count": 20
        }
      ]
    },
    {
      "cell_type": "markdown",
      "metadata": {
        "id": "4MJZjYLUkwPq"
      },
      "source": [
        "**Normalização das Entradas**"
      ]
    },
    {
      "cell_type": "code",
      "metadata": {
        "id": "if0sPvYkhMwb"
      },
      "source": [
        "from sklearn.preprocessing import MinMaxScaler\n",
        "normaliza = MinMaxScaler() #objeto para a normalização\n",
        "\n",
        "entradas_normalizadas=normaliza.fit_transform(dfEntrada)\n",
        "saida_normalizada = normaliza.fit_transform(dfSaida)"
      ],
      "execution_count": 15,
      "outputs": []
    },
    {
      "cell_type": "code",
      "metadata": {
        "id": "Zk5FIMDvihTt",
        "outputId": "cd8f5cca-832c-401e-d1e5-1d19b96900d9",
        "colab": {
          "base_uri": "https://localhost:8080/",
          "height": 51
        }
      },
      "source": [
        "dfSaida.query('Outcome == 1').count()"
      ],
      "execution_count": 21,
      "outputs": [
        {
          "output_type": "execute_result",
          "data": {
            "text/plain": [
              "Outcome    268\n",
              "dtype: int64"
            ]
          },
          "metadata": {
            "tags": []
          },
          "execution_count": 21
        }
      ]
    },
    {
      "cell_type": "code",
      "metadata": {
        "id": "X2RbSLxZBKkN"
      },
      "source": [
        "from sklearn.model_selection import train_test_split\n",
        "\n",
        "x_train, x_test, y_train, y_test = train_test_split(entradas_normalizadas, dfSaida,\n",
        "test_size=0.30,random_state=42)\n"
      ],
      "execution_count": 23,
      "outputs": []
    },
    {
      "cell_type": "markdown",
      "metadata": {
        "id": "0nl_JHx6NbWo"
      },
      "source": [
        "**KNN**"
      ]
    },
    {
      "cell_type": "code",
      "metadata": {
        "id": "rY7hZO33DEDP",
        "outputId": "3c205499-be98-408a-ac07-fe9d0b1b7e4d",
        "colab": {
          "base_uri": "https://localhost:8080/",
          "height": 224
        }
      },
      "source": [
        "#contruindo o modelo para cliassificação com KNN com K=5\n",
        "from sklearn.neighbors import KNeighborsClassifier\n",
        "from sklearn.metrics import classification_report, confusion_matrix\n",
        "\n",
        "clf_KNN = KNeighborsClassifier(n_neighbors=5)\n",
        "clf_KNN.fit(x_train, y_train) # Treinando o modelo\n",
        "\n",
        "y_pred_KNN = clf_KNN.predict(x_test) #realiza a previsão para o KNN\n",
        "y_pred_KNN\n",
        "\n",
        "print(classification_report(y_test,y_pred_KNN))"
      ],
      "execution_count": 26,
      "outputs": [
        {
          "output_type": "stream",
          "text": [
            "              precision    recall  f1-score   support\n",
            "\n",
            "           0       0.74      0.78      0.76       151\n",
            "           1       0.54      0.49      0.51        80\n",
            "\n",
            "    accuracy                           0.68       231\n",
            "   macro avg       0.64      0.63      0.64       231\n",
            "weighted avg       0.67      0.68      0.68       231\n",
            "\n"
          ],
          "name": "stdout"
        },
        {
          "output_type": "stream",
          "text": [
            "/usr/local/lib/python3.6/dist-packages/ipykernel_launcher.py:6: DataConversionWarning: A column-vector y was passed when a 1d array was expected. Please change the shape of y to (n_samples, ), for example using ravel().\n",
            "  \n"
          ],
          "name": "stderr"
        }
      ]
    },
    {
      "cell_type": "markdown",
      "metadata": {
        "id": "cnr1hpuZNgI_"
      },
      "source": [
        "**Arvore Decisão**"
      ]
    },
    {
      "cell_type": "code",
      "metadata": {
        "id": "21Wnsl-nEkbz",
        "outputId": "9015b582-6fb0-4d73-9e7e-385ca83a1f44",
        "colab": {
          "base_uri": "https://localhost:8080/",
          "height": 34
        }
      },
      "source": [
        "from sklearn.tree import DecisionTreeClassifier\n",
        "from sklearn.metrics import accuracy_score\n",
        "\n",
        "clf_arvore = DecisionTreeClassifier() \n",
        "clf_arvore.fit(x_train, y_train) #Treinando o Modelo\n",
        "\n",
        "#realiza a previsão com os dados\n",
        "y_previsto = clf_arvore.predict(x_test) \n",
        "acuracia = accuracy_score(y_test, y_previsto)\n",
        "print('Acurácia da àrvore de Decisão: ',acuracia)\n"
      ],
      "execution_count": 27,
      "outputs": [
        {
          "output_type": "stream",
          "text": [
            "Acurácia da àrvore de Decisão:  0.696969696969697\n"
          ],
          "name": "stdout"
        }
      ]
    },
    {
      "cell_type": "markdown",
      "metadata": {
        "id": "BaXlYexZNlrv"
      },
      "source": [
        "**Floresta Randômica**"
      ]
    },
    {
      "cell_type": "code",
      "metadata": {
        "id": "mm2Hek17JK74",
        "outputId": "cc95580f-0f6d-4099-b22b-1acccab72d31",
        "colab": {
          "base_uri": "https://localhost:8080/",
          "height": 88
        }
      },
      "source": [
        "from sklearn.ensemble import RandomForestClassifier\n",
        "from sklearn.datasets import make_classification\n",
        "from sklearn.metrics import accuracy_score\n",
        "\n",
        "clf_floresta = RandomForestClassifier(max_depth=10, random_state=1)\n",
        "clf_floresta.fit(x_train, y_train) #Treinando o modelo\n",
        "\n",
        "y_previsto = clf_floresta.predict(x_test) #prevendo\n",
        "acuracia = accuracy_score(y_test, y_previsto)#acurácia\n",
        "\n",
        "print('Acurácia da àrvore de Decisão: ',acuracia)\n"
      ],
      "execution_count": 28,
      "outputs": [
        {
          "output_type": "stream",
          "text": [
            "Acurácia da àrvore de Decisão:  0.7445887445887446\n"
          ],
          "name": "stdout"
        },
        {
          "output_type": "stream",
          "text": [
            "/usr/local/lib/python3.6/dist-packages/ipykernel_launcher.py:6: DataConversionWarning: A column-vector y was passed when a 1d array was expected. Please change the shape of y to (n_samples,), for example using ravel().\n",
            "  \n"
          ],
          "name": "stderr"
        }
      ]
    },
    {
      "cell_type": "markdown",
      "metadata": {
        "id": "hJrZuDt3NBMw"
      },
      "source": [
        "**MLP**"
      ]
    },
    {
      "cell_type": "code",
      "metadata": {
        "id": "dQgu73GpM6yK"
      },
      "source": [
        "#MLP como classificador\n",
        "from sklearn.neural_network import MLPClassifier\n",
        "#define a configuração da rede\n",
        "clf_mlp = MLPClassifier(solver='lbfgs', alpha=1e-5, hidden_layer_sizes=(5,\n",
        "5), random_state=1)"
      ],
      "execution_count": 29,
      "outputs": []
    },
    {
      "cell_type": "markdown",
      "metadata": {
        "id": "wsJBFKtaQuq-"
      },
      "source": [
        "**SVM**"
      ]
    },
    {
      "cell_type": "code",
      "metadata": {
        "id": "RJWkRjL_Qt7H",
        "outputId": "ab85eeeb-6b7d-4b78-f12f-a5665f6efacd",
        "colab": {
          "base_uri": "https://localhost:8080/",
          "height": 88
        }
      },
      "source": [
        "#importando o svm como classificador\n",
        "from sklearn.svm import SVC\n",
        "from sklearn.metrics import accuracy_score\n",
        "\n",
        "clf_svm=SVC(gamma='auto',random_state=1)\n",
        "clf_svm.fit(x_train,y_train)#treinando o modelo\n",
        "\n",
        "y_previsto = clf_svm.predict(x_test) #realizando previsão\n",
        "acuracia = accuracy_score(y_test, y_previsto)#acurácia\n",
        "\n",
        "print('Acurácia da àrvore de Decisão: ',acuracia)\n"
      ],
      "execution_count": 31,
      "outputs": [
        {
          "output_type": "stream",
          "text": [
            "Acurácia da àrvore de Decisão:  0.7705627705627706\n"
          ],
          "name": "stdout"
        },
        {
          "output_type": "stream",
          "text": [
            "/usr/local/lib/python3.6/dist-packages/sklearn/utils/validation.py:760: DataConversionWarning: A column-vector y was passed when a 1d array was expected. Please change the shape of y to (n_samples, ), for example using ravel().\n",
            "  y = column_or_1d(y, warn=True)\n"
          ],
          "name": "stderr"
        }
      ]
    }
  ]
}