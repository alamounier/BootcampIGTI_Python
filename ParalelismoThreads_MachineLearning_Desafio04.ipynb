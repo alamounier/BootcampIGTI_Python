{
  "nbformat": 4,
  "nbformat_minor": 0,
  "metadata": {
    "colab": {
      "name": "DesafioMódulo04_André Lamounier_BootcampIGTI.ipynb",
      "provenance": [],
      "collapsed_sections": []
    },
    "kernelspec": {
      "name": "python3",
      "display_name": "Python 3"
    }
  },
  "cells": [
    {
      "cell_type": "code",
      "metadata": {
        "id": "lZaYDd4VyqUA"
      },
      "source": [
        "import pandas as pd  #bibioteca responsável para o tratamento e limpeza dos dados\n",
        "import numpy as np #biblioteca utilizada para o tratamento eficiente de dados numéricos\n",
        "import datetime  #biblioteca utilizada para trabalhar com datas\n",
        "from matplotlib import pyplot as plt  #plotar os gráficos\n",
        "import seaborn as sns #plot de gráficos\n",
        "from pandas import DataFrame"
      ],
      "execution_count": 2,
      "outputs": []
    },
    {
      "cell_type": "code",
      "metadata": {
        "id": "_ebokDr6zTxu"
      },
      "source": [
        "df_coracao=pd.read_csv('doencas_coracao.csv')"
      ],
      "execution_count": 3,
      "outputs": []
    },
    {
      "cell_type": "code",
      "metadata": {
        "id": "EhtJQ3KxzlHb",
        "outputId": "0214388f-dbca-478c-d45b-7721e4eb2687",
        "colab": {
          "base_uri": "https://localhost:8080/",
          "height": 224
        }
      },
      "source": [
        "df_coracao.head()"
      ],
      "execution_count": 4,
      "outputs": [
        {
          "output_type": "execute_result",
          "data": {
            "text/html": [
              "<div>\n",
              "<style scoped>\n",
              "    .dataframe tbody tr th:only-of-type {\n",
              "        vertical-align: middle;\n",
              "    }\n",
              "\n",
              "    .dataframe tbody tr th {\n",
              "        vertical-align: top;\n",
              "    }\n",
              "\n",
              "    .dataframe thead th {\n",
              "        text-align: right;\n",
              "    }\n",
              "</style>\n",
              "<table border=\"1\" class=\"dataframe\">\n",
              "  <thead>\n",
              "    <tr style=\"text-align: right;\">\n",
              "      <th></th>\n",
              "      <th>age</th>\n",
              "      <th>anaemia</th>\n",
              "      <th>creatinine_phosphokinase</th>\n",
              "      <th>diabetes</th>\n",
              "      <th>ejection_fraction</th>\n",
              "      <th>high_blood_pressure</th>\n",
              "      <th>platelets</th>\n",
              "      <th>serum_creatinine</th>\n",
              "      <th>serum_sodium</th>\n",
              "      <th>sex</th>\n",
              "      <th>smoking</th>\n",
              "      <th>time</th>\n",
              "      <th>DEATH_EVENT</th>\n",
              "    </tr>\n",
              "  </thead>\n",
              "  <tbody>\n",
              "    <tr>\n",
              "      <th>0</th>\n",
              "      <td>75.0</td>\n",
              "      <td>0</td>\n",
              "      <td>582</td>\n",
              "      <td>0</td>\n",
              "      <td>20</td>\n",
              "      <td>1</td>\n",
              "      <td>265000.00</td>\n",
              "      <td>1.9</td>\n",
              "      <td>130</td>\n",
              "      <td>1</td>\n",
              "      <td>0</td>\n",
              "      <td>4</td>\n",
              "      <td>1</td>\n",
              "    </tr>\n",
              "    <tr>\n",
              "      <th>1</th>\n",
              "      <td>55.0</td>\n",
              "      <td>0</td>\n",
              "      <td>7861</td>\n",
              "      <td>0</td>\n",
              "      <td>38</td>\n",
              "      <td>0</td>\n",
              "      <td>263358.03</td>\n",
              "      <td>1.1</td>\n",
              "      <td>136</td>\n",
              "      <td>1</td>\n",
              "      <td>0</td>\n",
              "      <td>6</td>\n",
              "      <td>1</td>\n",
              "    </tr>\n",
              "    <tr>\n",
              "      <th>2</th>\n",
              "      <td>65.0</td>\n",
              "      <td>0</td>\n",
              "      <td>146</td>\n",
              "      <td>0</td>\n",
              "      <td>20</td>\n",
              "      <td>0</td>\n",
              "      <td>162000.00</td>\n",
              "      <td>1.3</td>\n",
              "      <td>129</td>\n",
              "      <td>1</td>\n",
              "      <td>1</td>\n",
              "      <td>7</td>\n",
              "      <td>1</td>\n",
              "    </tr>\n",
              "    <tr>\n",
              "      <th>3</th>\n",
              "      <td>50.0</td>\n",
              "      <td>1</td>\n",
              "      <td>111</td>\n",
              "      <td>0</td>\n",
              "      <td>20</td>\n",
              "      <td>0</td>\n",
              "      <td>210000.00</td>\n",
              "      <td>1.9</td>\n",
              "      <td>137</td>\n",
              "      <td>1</td>\n",
              "      <td>0</td>\n",
              "      <td>7</td>\n",
              "      <td>1</td>\n",
              "    </tr>\n",
              "    <tr>\n",
              "      <th>4</th>\n",
              "      <td>65.0</td>\n",
              "      <td>1</td>\n",
              "      <td>160</td>\n",
              "      <td>1</td>\n",
              "      <td>20</td>\n",
              "      <td>0</td>\n",
              "      <td>327000.00</td>\n",
              "      <td>2.7</td>\n",
              "      <td>116</td>\n",
              "      <td>0</td>\n",
              "      <td>0</td>\n",
              "      <td>8</td>\n",
              "      <td>1</td>\n",
              "    </tr>\n",
              "  </tbody>\n",
              "</table>\n",
              "</div>"
            ],
            "text/plain": [
              "    age  anaemia  creatinine_phosphokinase  ...  smoking  time  DEATH_EVENT\n",
              "0  75.0        0                       582  ...        0     4            1\n",
              "1  55.0        0                      7861  ...        0     6            1\n",
              "2  65.0        0                       146  ...        1     7            1\n",
              "3  50.0        1                       111  ...        0     7            1\n",
              "4  65.0        1                       160  ...        0     8            1\n",
              "\n",
              "[5 rows x 13 columns]"
            ]
          },
          "metadata": {
            "tags": []
          },
          "execution_count": 4
        }
      ]
    },
    {
      "cell_type": "code",
      "metadata": {
        "id": "Hc0ps1JizsAe",
        "outputId": "f691cdd3-1cbc-46b8-a73f-253ad7ad8f3a",
        "colab": {
          "base_uri": "https://localhost:8080/",
          "height": 357
        }
      },
      "source": [
        "df_coracao.info()"
      ],
      "execution_count": 5,
      "outputs": [
        {
          "output_type": "stream",
          "text": [
            "<class 'pandas.core.frame.DataFrame'>\n",
            "RangeIndex: 299 entries, 0 to 298\n",
            "Data columns (total 13 columns):\n",
            " #   Column                    Non-Null Count  Dtype  \n",
            "---  ------                    --------------  -----  \n",
            " 0   age                       299 non-null    float64\n",
            " 1   anaemia                   299 non-null    int64  \n",
            " 2   creatinine_phosphokinase  299 non-null    int64  \n",
            " 3   diabetes                  299 non-null    int64  \n",
            " 4   ejection_fraction         299 non-null    int64  \n",
            " 5   high_blood_pressure       299 non-null    int64  \n",
            " 6   platelets                 299 non-null    float64\n",
            " 7   serum_creatinine          299 non-null    float64\n",
            " 8   serum_sodium              299 non-null    int64  \n",
            " 9   sex                       299 non-null    int64  \n",
            " 10  smoking                   299 non-null    int64  \n",
            " 11  time                      299 non-null    int64  \n",
            " 12  DEATH_EVENT               299 non-null    int64  \n",
            "dtypes: float64(3), int64(10)\n",
            "memory usage: 30.5 KB\n"
          ],
          "name": "stdout"
        }
      ]
    },
    {
      "cell_type": "code",
      "metadata": {
        "id": "geAADFNzz1c-",
        "outputId": "142e9902-0940-48fd-9bc8-97533665a790",
        "colab": {
          "base_uri": "https://localhost:8080/",
          "height": 34
        }
      },
      "source": [
        "df_coracao.shape"
      ],
      "execution_count": 6,
      "outputs": [
        {
          "output_type": "execute_result",
          "data": {
            "text/plain": [
              "(299, 13)"
            ]
          },
          "metadata": {
            "tags": []
          },
          "execution_count": 6
        }
      ]
    },
    {
      "cell_type": "markdown",
      "metadata": {
        "id": "rO4UqnX6KURG"
      },
      "source": [
        "**Qual era a idade (age) média dos pacientes que faleceram(DEATH_EVENT=1)?**"
      ]
    },
    {
      "cell_type": "code",
      "metadata": {
        "id": "EX2TkrIjKZ7S",
        "outputId": "11ec5bfa-0d0d-4d65-9d79-b0e94360c599",
        "colab": {
          "base_uri": "https://localhost:8080/",
          "height": 297
        }
      },
      "source": [
        "df_Death = df_coracao[['age','DEATH_EVENT']]\n",
        "df_Death.query('DEATH_EVENT == 1').describe()"
      ],
      "execution_count": 10,
      "outputs": [
        {
          "output_type": "execute_result",
          "data": {
            "text/html": [
              "<div>\n",
              "<style scoped>\n",
              "    .dataframe tbody tr th:only-of-type {\n",
              "        vertical-align: middle;\n",
              "    }\n",
              "\n",
              "    .dataframe tbody tr th {\n",
              "        vertical-align: top;\n",
              "    }\n",
              "\n",
              "    .dataframe thead th {\n",
              "        text-align: right;\n",
              "    }\n",
              "</style>\n",
              "<table border=\"1\" class=\"dataframe\">\n",
              "  <thead>\n",
              "    <tr style=\"text-align: right;\">\n",
              "      <th></th>\n",
              "      <th>age</th>\n",
              "      <th>DEATH_EVENT</th>\n",
              "    </tr>\n",
              "  </thead>\n",
              "  <tbody>\n",
              "    <tr>\n",
              "      <th>count</th>\n",
              "      <td>96.000000</td>\n",
              "      <td>96.0</td>\n",
              "    </tr>\n",
              "    <tr>\n",
              "      <th>mean</th>\n",
              "      <td>65.215281</td>\n",
              "      <td>1.0</td>\n",
              "    </tr>\n",
              "    <tr>\n",
              "      <th>std</th>\n",
              "      <td>13.214556</td>\n",
              "      <td>0.0</td>\n",
              "    </tr>\n",
              "    <tr>\n",
              "      <th>min</th>\n",
              "      <td>42.000000</td>\n",
              "      <td>1.0</td>\n",
              "    </tr>\n",
              "    <tr>\n",
              "      <th>25%</th>\n",
              "      <td>55.000000</td>\n",
              "      <td>1.0</td>\n",
              "    </tr>\n",
              "    <tr>\n",
              "      <th>50%</th>\n",
              "      <td>65.000000</td>\n",
              "      <td>1.0</td>\n",
              "    </tr>\n",
              "    <tr>\n",
              "      <th>75%</th>\n",
              "      <td>75.000000</td>\n",
              "      <td>1.0</td>\n",
              "    </tr>\n",
              "    <tr>\n",
              "      <th>max</th>\n",
              "      <td>95.000000</td>\n",
              "      <td>1.0</td>\n",
              "    </tr>\n",
              "  </tbody>\n",
              "</table>\n",
              "</div>"
            ],
            "text/plain": [
              "             age  DEATH_EVENT\n",
              "count  96.000000         96.0\n",
              "mean   65.215281          1.0\n",
              "std    13.214556          0.0\n",
              "min    42.000000          1.0\n",
              "25%    55.000000          1.0\n",
              "50%    65.000000          1.0\n",
              "75%    75.000000          1.0\n",
              "max    95.000000          1.0"
            ]
          },
          "metadata": {
            "tags": []
          },
          "execution_count": 10
        }
      ]
    },
    {
      "cell_type": "markdown",
      "metadata": {
        "id": "578QJNSnKenC"
      },
      "source": [
        "**Dentre os pacientes que sobreviveram (DEATH_EVENT=1), quantos são do sexo feminino (sex=0)?**"
      ]
    },
    {
      "cell_type": "code",
      "metadata": {
        "id": "JT2meEWs9cm0",
        "outputId": "7d4a4a70-c906-4b16-9c95-93e8e2b43298",
        "colab": {
          "base_uri": "https://localhost:8080/",
          "height": 173
        }
      },
      "source": [
        "df_Gen = df_coracao[['sex','DEATH_EVENT']]\n",
        "df_Gen.query('DEATH_EVENT == 1').groupby('sex').describe()\n"
      ],
      "execution_count": 11,
      "outputs": [
        {
          "output_type": "execute_result",
          "data": {
            "text/html": [
              "<div>\n",
              "<style scoped>\n",
              "    .dataframe tbody tr th:only-of-type {\n",
              "        vertical-align: middle;\n",
              "    }\n",
              "\n",
              "    .dataframe tbody tr th {\n",
              "        vertical-align: top;\n",
              "    }\n",
              "\n",
              "    .dataframe thead tr th {\n",
              "        text-align: left;\n",
              "    }\n",
              "\n",
              "    .dataframe thead tr:last-of-type th {\n",
              "        text-align: right;\n",
              "    }\n",
              "</style>\n",
              "<table border=\"1\" class=\"dataframe\">\n",
              "  <thead>\n",
              "    <tr>\n",
              "      <th></th>\n",
              "      <th colspan=\"8\" halign=\"left\">DEATH_EVENT</th>\n",
              "    </tr>\n",
              "    <tr>\n",
              "      <th></th>\n",
              "      <th>count</th>\n",
              "      <th>mean</th>\n",
              "      <th>std</th>\n",
              "      <th>min</th>\n",
              "      <th>25%</th>\n",
              "      <th>50%</th>\n",
              "      <th>75%</th>\n",
              "      <th>max</th>\n",
              "    </tr>\n",
              "    <tr>\n",
              "      <th>sex</th>\n",
              "      <th></th>\n",
              "      <th></th>\n",
              "      <th></th>\n",
              "      <th></th>\n",
              "      <th></th>\n",
              "      <th></th>\n",
              "      <th></th>\n",
              "      <th></th>\n",
              "    </tr>\n",
              "  </thead>\n",
              "  <tbody>\n",
              "    <tr>\n",
              "      <th>0</th>\n",
              "      <td>34.0</td>\n",
              "      <td>1.0</td>\n",
              "      <td>0.0</td>\n",
              "      <td>1.0</td>\n",
              "      <td>1.0</td>\n",
              "      <td>1.0</td>\n",
              "      <td>1.0</td>\n",
              "      <td>1.0</td>\n",
              "    </tr>\n",
              "    <tr>\n",
              "      <th>1</th>\n",
              "      <td>62.0</td>\n",
              "      <td>1.0</td>\n",
              "      <td>0.0</td>\n",
              "      <td>1.0</td>\n",
              "      <td>1.0</td>\n",
              "      <td>1.0</td>\n",
              "      <td>1.0</td>\n",
              "      <td>1.0</td>\n",
              "    </tr>\n",
              "  </tbody>\n",
              "</table>\n",
              "</div>"
            ],
            "text/plain": [
              "    DEATH_EVENT                                   \n",
              "          count mean  std  min  25%  50%  75%  max\n",
              "sex                                               \n",
              "0          34.0  1.0  0.0  1.0  1.0  1.0  1.0  1.0\n",
              "1          62.0  1.0  0.0  1.0  1.0  1.0  1.0  1.0"
            ]
          },
          "metadata": {
            "tags": []
          },
          "execution_count": 11
        }
      ]
    },
    {
      "cell_type": "markdown",
      "metadata": {
        "id": "ed68Mmn7cYZL"
      },
      "source": [
        "**Definindo as entradas e saídas do nosso projeto, conforme enunciado**"
      ]
    },
    {
      "cell_type": "code",
      "metadata": {
        "id": "3VPvSB76cdr6"
      },
      "source": [
        "dfEntrada = DataFrame(df_coracao,columns=['sex','age','diabetes','anaemia','high_blood_pressure','creatinine_phosphokinase','smoking','ejection_fraction','platelets','serum_sodium','serum_creatinine'])\n",
        "dfSaida = DataFrame(df_coracao,columns=['DEATH_EVENT'])"
      ],
      "execution_count": 13,
      "outputs": []
    },
    {
      "cell_type": "markdown",
      "metadata": {
        "id": "VxVvCyeU9pRn"
      },
      "source": [
        "**Normalização das entradas**"
      ]
    },
    {
      "cell_type": "code",
      "metadata": {
        "id": "6QtbQg2s9rAw"
      },
      "source": [
        "from sklearn.preprocessing import MinMaxScaler\n",
        "normaliza = MinMaxScaler() #objeto para a normalizaçã\n",
        "entradas_normalizadas=normaliza.fit_transform(dfEntrada)\n"
      ],
      "execution_count": 14,
      "outputs": []
    },
    {
      "cell_type": "markdown",
      "metadata": {
        "id": "lVI7jP-L90Ef"
      },
      "source": [
        "**Divisão entre treino e teste**"
      ]
    },
    {
      "cell_type": "code",
      "metadata": {
        "id": "HtNPLkr-9-Ho",
        "outputId": "5902f5aa-45a3-4539-9118-db0f20e9b4d9",
        "colab": {
          "base_uri": "https://localhost:8080/",
          "height": 34
        }
      },
      "source": [
        "from sklearn.model_selection import train_test_split\n",
        "x_train, x_test, y_train, y_test = train_test_split(entradas_normalizadas, dfSaida,\n",
        "test_size=0.30,random_state=42)\n",
        "x_train.shape"
      ],
      "execution_count": 15,
      "outputs": [
        {
          "output_type": "execute_result",
          "data": {
            "text/plain": [
              "(209, 11)"
            ]
          },
          "metadata": {
            "tags": []
          },
          "execution_count": 15
        }
      ]
    },
    {
      "cell_type": "markdown",
      "metadata": {
        "id": "HRMVHsjU-bHU"
      },
      "source": [
        "**Algoritmo KNN**"
      ]
    },
    {
      "cell_type": "code",
      "metadata": {
        "id": "zIlvMRzo-fye",
        "outputId": "433903a5-1252-42df-d66f-6b6c900551a3",
        "colab": {
          "base_uri": "https://localhost:8080/",
          "height": 88
        }
      },
      "source": [
        "#contruindo o modelo para cliassificação com KNN com K=5\n",
        "from sklearn.neighbors import KNeighborsClassifier\n",
        "from sklearn.metrics import classification_report, confusion_matrix, accuracy_score\n",
        "clf_KNN = KNeighborsClassifier(n_neighbors=5)\n",
        "\n",
        "#treinando o modelo\n",
        "clf_KNN.fit(x_train, y_train) \n",
        "\n",
        "y_previsto = clf_KNN.predict(x_test) \n",
        "acuracia = accuracy_score(y_test, y_previsto)\n",
        "print('Acurácia da àrvore de Decisão: ',acuracia)\n",
        "\n"
      ],
      "execution_count": 17,
      "outputs": [
        {
          "output_type": "stream",
          "text": [
            "Acurácia da àrvore de Decisão:  0.5777777777777777\n"
          ],
          "name": "stdout"
        },
        {
          "output_type": "stream",
          "text": [
            "/usr/local/lib/python3.6/dist-packages/ipykernel_launcher.py:7: DataConversionWarning: A column-vector y was passed when a 1d array was expected. Please change the shape of y to (n_samples, ), for example using ravel().\n",
            "  import sys\n"
          ],
          "name": "stderr"
        }
      ]
    },
    {
      "cell_type": "markdown",
      "metadata": {
        "id": "CQbCi-Z--6EV"
      },
      "source": [
        "**Algoritmo Árvore de Decisão**"
      ]
    },
    {
      "cell_type": "code",
      "metadata": {
        "id": "AxVuLB7Z-9Qo",
        "outputId": "2a121751-8ec6-47e5-dfcf-54498b03d9c8",
        "colab": {
          "base_uri": "https://localhost:8080/",
          "height": 34
        }
      },
      "source": [
        "from sklearn.tree import DecisionTreeClassifier\n",
        "from sklearn.metrics import accuracy_score\n",
        "clf_arvore = DecisionTreeClassifier(random_state=1) \n",
        "clf_arvore.fit(x_train, y_train) \n",
        "\n",
        "#realiza a previsão com os dados\n",
        "y_previsto = clf_arvore.predict(x_test) \n",
        "acuracia = accuracy_score(y_test, y_previsto)\n",
        "print('Acurácia da àrvore de Decisão: ',acuracia)"
      ],
      "execution_count": 18,
      "outputs": [
        {
          "output_type": "stream",
          "text": [
            "Acurácia da àrvore de Decisão:  0.5888888888888889\n"
          ],
          "name": "stdout"
        }
      ]
    },
    {
      "cell_type": "markdown",
      "metadata": {
        "id": "BhYAVWsj_JWv"
      },
      "source": [
        "**Algoritmo Rede MLP**"
      ]
    },
    {
      "cell_type": "code",
      "metadata": {
        "id": "l12cL5VA_K2x",
        "outputId": "0037370f-19cf-4947-c958-657b226181b5",
        "colab": {
          "base_uri": "https://localhost:8080/",
          "height": 292
        }
      },
      "source": [
        "#MLP como classificador\n",
        "from sklearn.neural_network import MLPClassifier\n",
        "\n",
        "#define a configuração da rede\n",
        "clf_mlp = MLPClassifier(solver='lbfgs', alpha=1e-5, hidden_layer_sizes=(5, 10), random_state=1)\n",
        "\n",
        "#realiza o fit do modelo\n",
        "clf_mlp.fit(x_train,y_train.values.ravel())\n",
        "\n",
        "#realiza a previsão\n",
        "y_pred_mlp=clf_mlp.predict(x_test)\n",
        "\n",
        "print(classification_report(y_test,y_pred_mlp))\n"
      ],
      "execution_count": 19,
      "outputs": [
        {
          "output_type": "stream",
          "text": [
            "              precision    recall  f1-score   support\n",
            "\n",
            "           0       0.69      0.79      0.74        53\n",
            "           1       0.62      0.49      0.55        37\n",
            "\n",
            "    accuracy                           0.67        90\n",
            "   macro avg       0.65      0.64      0.64        90\n",
            "weighted avg       0.66      0.67      0.66        90\n",
            "\n"
          ],
          "name": "stdout"
        },
        {
          "output_type": "stream",
          "text": [
            "/usr/local/lib/python3.6/dist-packages/sklearn/neural_network/_multilayer_perceptron.py:470: ConvergenceWarning: lbfgs failed to converge (status=1):\n",
            "STOP: TOTAL NO. of ITERATIONS REACHED LIMIT.\n",
            "\n",
            "Increase the number of iterations (max_iter) or scale the data as shown in:\n",
            "    https://scikit-learn.org/stable/modules/preprocessing.html\n",
            "  self.n_iter_ = _check_optimize_result(\"lbfgs\", opt_res, self.max_iter)\n"
          ],
          "name": "stderr"
        }
      ]
    },
    {
      "cell_type": "markdown",
      "metadata": {
        "id": "6WY771DnFqRB"
      },
      "source": [
        "**Concorrência - tarefa a ser realizada pelas threads**"
      ]
    },
    {
      "cell_type": "code",
      "metadata": {
        "id": "k7-HNGucPpqH"
      },
      "source": [
        "#identificando a quantidade de núcleos disponíveis para o sistema\n",
        "import multiprocessing\n",
        "multiprocessing.cpu_count() #conta a quantidade de núcleos disponíveis no sistema \n",
        "#processamento sequencial\n",
        "import threading  #módulo para a construção de threads\n",
        "import urllib.request  #módulo para a requisição de url\n",
        "import time  #módulo para tratar tempo\n",
        "import random\n"
      ],
      "execution_count": 20,
      "outputs": []
    },
    {
      "cell_type": "code",
      "metadata": {
        "id": "18Hk7apEFWJq"
      },
      "source": [
        "def contador():\n",
        "  x = 1000000\n",
        "  while x > 0:\n",
        "    x -=1\n"
      ],
      "execution_count": 21,
      "outputs": []
    },
    {
      "cell_type": "code",
      "metadata": {
        "id": "QZG-BW-RFznB"
      },
      "source": [
        "def imple_sequencial():\n",
        "  contador()\n",
        "  contador()\n",
        "  "
      ],
      "execution_count": 22,
      "outputs": []
    },
    {
      "cell_type": "markdown",
      "metadata": {
        "id": "JcCkVRQddgNZ"
      },
      "source": [
        "**sequencial**"
      ]
    },
    {
      "cell_type": "code",
      "metadata": {
        "id": "30DWxkgocXmB",
        "outputId": "3b3b9daf-d8c3-4f93-d038-599d60da57ae",
        "colab": {
          "base_uri": "https://localhost:8080/",
          "height": 34
        }
      },
      "source": [
        "t0 = time.time()\n",
        "imple_sequencial()\n",
        "t1 = time.time()\n",
        "totalTime = t1 - t0\n",
        "print(\"Tempo total de execução {}\".format(totalTime))"
      ],
      "execution_count": 23,
      "outputs": [
        {
          "output_type": "stream",
          "text": [
            "Tempo total de execução 0.12084436416625977\n"
          ],
          "name": "stdout"
        }
      ]
    },
    {
      "cell_type": "markdown",
      "metadata": {
        "id": "9qac20FpdkpN"
      },
      "source": [
        "**Concorrente**"
      ]
    },
    {
      "cell_type": "code",
      "metadata": {
        "id": "88ssRPPdaa01",
        "outputId": "118697b8-8cb0-4827-eb93-98c06670cd69",
        "colab": {
          "base_uri": "https://localhost:8080/",
          "height": 170
        }
      },
      "source": [
        "import threading\n",
        "import time\n",
        "import random\n",
        "\n",
        "def imple_concorrente():\n",
        "  thread_1 = threading.Thread(target=contador)\n",
        "  thread_2 = threading.Thread(target=contador)\n",
        "\n",
        "t0 = time.time()\n",
        "\n",
        "threads = [] #lista vazia que vai conter todas as threads criadas\n",
        "\n",
        "#cria das 10 threads, cada uma delas será responsável por realizar o download\n",
        "for i in range(1):\n",
        "  thread = threading.Thread(target=imple_concorrente, args=(i,))\n",
        "  threads.append(thread)\n",
        "  thread.start()\n",
        "  \n",
        "#garante que as execuções foram finalizadas\n",
        "for i in threads:\n",
        "  i.join()\n",
        "\n",
        "#calcula o tempo de execução\n",
        "t1 = time.time()\n",
        "totalTime = t1 - t0\n",
        "print(\"Tempo total de execução {}\".format(totalTime))"
      ],
      "execution_count": 24,
      "outputs": [
        {
          "output_type": "stream",
          "text": [
            "Tempo total de execução 0.007271289825439453\n"
          ],
          "name": "stdout"
        },
        {
          "output_type": "stream",
          "text": [
            "Exception in thread Thread-4:\n",
            "Traceback (most recent call last):\n",
            "  File \"/usr/lib/python3.6/threading.py\", line 916, in _bootstrap_inner\n",
            "    self.run()\n",
            "  File \"/usr/lib/python3.6/threading.py\", line 864, in run\n",
            "    self._target(*self._args, **self._kwargs)\n",
            "TypeError: imple_concorrente() takes 0 positional arguments but 1 was given\n",
            "\n"
          ],
          "name": "stderr"
        }
      ]
    },
    {
      "cell_type": "markdown",
      "metadata": {
        "id": "XQP0Z77reUs4"
      },
      "source": [
        "**Concorrente com tempo randômico**"
      ]
    },
    {
      "cell_type": "code",
      "metadata": {
        "id": "sDUpz5PGeivB",
        "outputId": "e61f7d9a-fdf4-494e-a7ff-6603a011b269",
        "colab": {
          "base_uri": "https://localhost:8080/",
          "height": 170
        }
      },
      "source": [
        "import threading\n",
        "import time\n",
        "import random\n",
        "\n",
        "def contador1():\n",
        "  x = 100\n",
        "  while x > 0:\n",
        "    x -=1\n",
        "    time.sleep(random.randint(1,20))\n",
        "\n",
        "def imple_concorrente():\n",
        "  thread_1 = threading.Thread(target=contador1)\n",
        "  thread_2 = threading.Thread(target=contador1)\n",
        "\n",
        "t0 = time.time()\n",
        "\n",
        "threads = [] #lista vazia que vai conter todas as threads criadas\n",
        "\n",
        "#cria das 10 threads, cada uma delas será responsável por realizar a contagem\n",
        "for i in range(1):\n",
        "  thread = threading.Thread(target=imple_concorrente, args=(i,))\n",
        "  threads.append(thread)\n",
        "  thread.start()\n",
        "  \n",
        "#garante que as execuções foram finalizadas\n",
        "for i in threads:\n",
        "  i.join()\n",
        "\n",
        "#calcula o tempo de execução\n",
        "t1 = time.time()\n",
        "totalTime = t1 - t0\n",
        "print(\"Tempo total de execução {}\".format(totalTime))"
      ],
      "execution_count": 25,
      "outputs": [
        {
          "output_type": "stream",
          "text": [
            "Tempo total de execução 0.0026133060455322266\n"
          ],
          "name": "stdout"
        },
        {
          "output_type": "stream",
          "text": [
            "Exception in thread Thread-5:\n",
            "Traceback (most recent call last):\n",
            "  File \"/usr/lib/python3.6/threading.py\", line 916, in _bootstrap_inner\n",
            "    self.run()\n",
            "  File \"/usr/lib/python3.6/threading.py\", line 864, in run\n",
            "    self._target(*self._args, **self._kwargs)\n",
            "TypeError: imple_concorrente() takes 0 positional arguments but 1 was given\n",
            "\n"
          ],
          "name": "stderr"
        }
      ]
    },
    {
      "cell_type": "markdown",
      "metadata": {
        "id": "LyQU8CsKGODJ"
      },
      "source": [
        "**Questões de programação reativa**"
      ]
    },
    {
      "cell_type": "code",
      "metadata": {
        "id": "cF-uea8skrSW",
        "outputId": "151646b1-0bdd-4a39-e4b4-c2fa15090f08",
        "colab": {
          "base_uri": "https://localhost:8080/",
          "height": 122
        }
      },
      "source": [
        "!pip install rx"
      ],
      "execution_count": 26,
      "outputs": [
        {
          "output_type": "stream",
          "text": [
            "Collecting rx\n",
            "\u001b[?25l  Downloading https://files.pythonhosted.org/packages/90/6c/5f1839d9ae2a8c85d119c51acaff1f1382f68691cb0f1cb3d0c9fdd32a93/Rx-3.1.1-py3-none-any.whl (197kB)\n",
            "\r\u001b[K     |█▋                              | 10kB 18.1MB/s eta 0:00:01\r\u001b[K     |███▎                            | 20kB 1.7MB/s eta 0:00:01\r\u001b[K     |█████                           | 30kB 2.3MB/s eta 0:00:01\r\u001b[K     |██████▋                         | 40kB 2.6MB/s eta 0:00:01\r\u001b[K     |████████▎                       | 51kB 2.0MB/s eta 0:00:01\r\u001b[K     |██████████                      | 61kB 2.3MB/s eta 0:00:01\r\u001b[K     |███████████▋                    | 71kB 2.5MB/s eta 0:00:01\r\u001b[K     |█████████████▎                  | 81kB 2.7MB/s eta 0:00:01\r\u001b[K     |███████████████                 | 92kB 2.9MB/s eta 0:00:01\r\u001b[K     |████████████████▋               | 102kB 2.8MB/s eta 0:00:01\r\u001b[K     |██████████████████▎             | 112kB 2.8MB/s eta 0:00:01\r\u001b[K     |████████████████████            | 122kB 2.8MB/s eta 0:00:01\r\u001b[K     |█████████████████████▋          | 133kB 2.8MB/s eta 0:00:01\r\u001b[K     |███████████████████████▎        | 143kB 2.8MB/s eta 0:00:01\r\u001b[K     |█████████████████████████       | 153kB 2.8MB/s eta 0:00:01\r\u001b[K     |██████████████████████████▋     | 163kB 2.8MB/s eta 0:00:01\r\u001b[K     |████████████████████████████▎   | 174kB 2.8MB/s eta 0:00:01\r\u001b[K     |██████████████████████████████  | 184kB 2.8MB/s eta 0:00:01\r\u001b[K     |███████████████████████████████▋| 194kB 2.8MB/s eta 0:00:01\r\u001b[K     |████████████████████████████████| 204kB 2.8MB/s \n",
            "\u001b[?25hInstalling collected packages: rx\n",
            "Successfully installed rx-3.1.1\n"
          ],
          "name": "stdout"
        }
      ]
    },
    {
      "cell_type": "code",
      "metadata": {
        "id": "JLVjlQn2GRcD",
        "outputId": "d3022456-c761-461a-97b1-7a5ef9491b39",
        "colab": {
          "base_uri": "https://localhost:8080/",
          "height": 68
        }
      },
      "source": [
        "import rx\n",
        "import rx.operators as ops\n",
        "source = rx.from_iterable([5,4,3,2,1]) #streaming\n",
        "disposable = source.pipe(\n",
        "    #ops.map(lambda i:i-1),\n",
        "    ops.filter(lambda i:i%2==0),\n",
        ").subscribe(\n",
        "    on_next = lambda i: print(\"on_next: {}\".format(i)),\n",
        "    on_completed = lambda: print(\"on_completed\"),\n",
        "    on_error = lambda e:print(\"on_error: {}\".format(e))\n",
        ") #inscrição do observer\n",
        "\n",
        "#utilizar como base a implementação presente na primeira aula sobre programação\n",
        "#reativa\n"
      ],
      "execution_count": 27,
      "outputs": [
        {
          "output_type": "stream",
          "text": [
            "on_next: 4\n",
            "on_next: 2\n",
            "on_completed\n"
          ],
          "name": "stdout"
        }
      ]
    },
    {
      "cell_type": "markdown",
      "metadata": {
        "id": "B1vEqaMhnVOJ"
      },
      "source": [
        "**Questão 10**"
      ]
    },
    {
      "cell_type": "code",
      "metadata": {
        "id": "El_Pdq3xnYW3",
        "outputId": "0ff7c4b0-9114-4530-d841-42cb4ba20b44",
        "colab": {
          "base_uri": "https://localhost:8080/",
          "height": 68
        }
      },
      "source": [
        "import rx\n",
        "import rx.operators as ops\n",
        "source = rx.from_iterable([5,4,3,2,1]) #streaming\n",
        "disposable = source.pipe(\n",
        "    ops.map(lambda i:i if i<3 else 0),\n",
        "    ops.filter(lambda i: i>0),\n",
        ").subscribe(\n",
        "    on_next = lambda i: print(\"on_next: {}\".format(i)),\n",
        "    on_completed = lambda: print(\"on_completed\"),\n",
        "    on_error = lambda e:print(\"on_error: {}\".format(e))\n",
        ") #inscrição do observer\n",
        "\n",
        "#utilizar como base a implementação presente na primeira aula sobre programação\n",
        "#reativa"
      ],
      "execution_count": 28,
      "outputs": [
        {
          "output_type": "stream",
          "text": [
            "on_next: 2\n",
            "on_next: 1\n",
            "on_completed\n"
          ],
          "name": "stdout"
        }
      ]
    },
    {
      "cell_type": "markdown",
      "metadata": {
        "id": "g_nHIN8hnvVY"
      },
      "source": [
        "**Questão 11**"
      ]
    },
    {
      "cell_type": "code",
      "metadata": {
        "id": "FpEkSz52nxNK",
        "outputId": "0d27f550-87b7-46de-a778-469d96fb0e6b",
        "colab": {
          "base_uri": "https://localhost:8080/",
          "height": 51
        }
      },
      "source": [
        "import rx\n",
        "import rx.operators as ops\n",
        "source = rx.from_iterable([5,4,3,\"2\",1]) #streaming\n",
        "disposable = source.pipe(\n",
        "    ops.filter(lambda i: i%2==0),\n",
        ").subscribe(\n",
        "    on_next = lambda i: print(\"on_next: {}\".format(i)),\n",
        "    on_completed = lambda: print(\"on_completed\"),\n",
        "    on_error = lambda e:print(\"on_error: {}\".format(e))\n",
        ") #inscrição do observer\n",
        "\n",
        "#utilizar como base a implementação presente na primeira aula sobre programação\n",
        "#reativa"
      ],
      "execution_count": 29,
      "outputs": [
        {
          "output_type": "stream",
          "text": [
            "on_next: 4\n",
            "on_error: not all arguments converted during string formatting\n"
          ],
          "name": "stdout"
        }
      ]
    }
  ]
}